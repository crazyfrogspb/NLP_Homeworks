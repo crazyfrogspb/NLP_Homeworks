{
 "cells": [
  {
   "cell_type": "markdown",
   "metadata": {},
   "source": [
    "# HW2"
   ]
  },
  {
   "cell_type": "markdown",
   "metadata": {
    "heading_collapsed": true
   },
   "source": [
    "# Importing stuff"
   ]
  },
  {
   "cell_type": "code",
   "execution_count": 127,
   "metadata": {
    "hidden": true
   },
   "outputs": [
    {
     "name": "stdout",
     "output_type": "stream",
     "text": [
      "The autoreload extension is already loaded. To reload it, use:\n",
      "  %reload_ext autoreload\n"
     ]
    }
   ],
   "source": [
    "%load_ext autoreload\n",
    "%autoreload 2\n",
    "%matplotlib inline\n",
    "import warnings\n",
    "\n",
    "warnings.filterwarnings(\"ignore\", message=\"numpy.dtype size changed\")\n",
    "warnings.filterwarnings(\"ignore\", message=\"numpy.ufunc size changed\")"
   ]
  },
  {
   "cell_type": "code",
   "execution_count": 128,
   "metadata": {
    "hidden": true
   },
   "outputs": [],
   "source": [
    "import os\n",
    "import pickle\n",
    "from collections import OrderedDict, defaultdict\n",
    "from copy import deepcopy\n",
    "from operator import itemgetter\n",
    "from random import shuffle\n",
    "\n",
    "import numpy as np\n",
    "import pandas as pd\n",
    "import torch\n",
    "import torch.nn as nn\n",
    "import torch.nn.functional as F\n",
    "import torch.optim as optim\n",
    "import torch.utils.data\n",
    "from gensim.models import KeyedVectors\n",
    "from nltk.corpus import stopwords\n",
    "from redditscore.tokenizer import CrazyTokenizer\n",
    "from tqdm import tqdm_notebook\n",
    "\n",
    "import data_utils\n",
    "import models\n",
    "import training_utils\n",
    "from sklearn import metrics\n",
    "from sklearn.model_selection import ParameterGrid, train_test_split"
   ]
  },
  {
   "cell_type": "code",
   "execution_count": 129,
   "metadata": {
    "hidden": true
   },
   "outputs": [],
   "source": [
    "import matplotlib.pyplot as plt\n",
    "import seaborn\n",
    "from jupyterthemes import jtplot\n",
    "\n",
    "jtplot.style()"
   ]
  },
  {
   "cell_type": "code",
   "execution_count": 130,
   "metadata": {
    "hidden": true
   },
   "outputs": [],
   "source": [
    "SEED = 24\n",
    "\n",
    "if torch.cuda.is_available and torch.has_cudnn:\n",
    "    DEVICE = torch.device('cuda')\n",
    "else:\n",
    "    DEVICE = torch.device(\"cpu\")"
   ]
  },
  {
   "cell_type": "markdown",
   "metadata": {
    "heading_collapsed": true
   },
   "source": [
    "# Preparing data"
   ]
  },
  {
   "cell_type": "code",
   "execution_count": 131,
   "metadata": {
    "hidden": true
   },
   "outputs": [],
   "source": [
    "train = pd.read_table('data/snli_train.tsv')\n",
    "val = pd.read_table('data/snli_val.tsv')"
   ]
  },
  {
   "cell_type": "markdown",
   "metadata": {
    "hidden": true
   },
   "source": [
    "Split sentences into tokens"
   ]
  },
  {
   "cell_type": "code",
   "execution_count": 132,
   "metadata": {
    "hidden": true
   },
   "outputs": [],
   "source": [
    "train_tokens1, train_tokens2 = data_utils.tokenize_dataset(train)\n",
    "train_labels = list(train.label)\n",
    "\n",
    "val_tokens1, val_tokens2 = data_utils.tokenize_dataset(val)\n",
    "val_labels = list(val.label)"
   ]
  },
  {
   "cell_type": "markdown",
   "metadata": {
    "hidden": true
   },
   "source": [
    "Set some constant parameters"
   ]
  },
  {
   "cell_type": "code",
   "execution_count": 133,
   "metadata": {
    "hidden": true
   },
   "outputs": [],
   "source": [
    "MAX_VOCAB_SIZE = 30000\n",
    "EMBED_SIZE = 300\n",
    "PAD_IDX = 0\n",
    "UNK_IDX = 1\n",
    "BATCH_SIZE = 64\n",
    "MAX_SENT_LENGTH = 70\n",
    "NUM_CLASSES = 3"
   ]
  },
  {
   "cell_type": "markdown",
   "metadata": {
    "hidden": true
   },
   "source": [
    "Read fastText word vectors"
   ]
  },
  {
   "cell_type": "code",
   "execution_count": 134,
   "metadata": {
    "hidden": true
   },
   "outputs": [],
   "source": [
    "ft_embeddings = KeyedVectors.load_word2vec_format('data/wiki-news-300d-1M.vec')"
   ]
  },
  {
   "cell_type": "markdown",
   "metadata": {
    "hidden": true
   },
   "source": [
    "Generate vocabulary"
   ]
  },
  {
   "cell_type": "code",
   "execution_count": 135,
   "metadata": {
    "hidden": true
   },
   "outputs": [],
   "source": [
    "token2id, id2token = data_utils.build_vocab(train_tokens1 + train_tokens2, ft_embeddings)"
   ]
  },
  {
   "cell_type": "markdown",
   "metadata": {
    "hidden": true
   },
   "source": [
    "Fill embedding matrix"
   ]
  },
  {
   "cell_type": "code",
   "execution_count": 136,
   "metadata": {
    "hidden": true,
    "scrolled": true
   },
   "outputs": [],
   "source": [
    "init_embeddings = np.zeros((len(token2id), EMBED_SIZE))"
   ]
  },
  {
   "cell_type": "code",
   "execution_count": 137,
   "metadata": {
    "hidden": true
   },
   "outputs": [],
   "source": [
    "for token, id_ in token2id.items():\n",
    "    if token in ft_embeddings:\n",
    "        init_embeddings[id_] = ft_embeddings[token]\n",
    "    elif token == '<unk>':\n",
    "        init_embeddings[id_] = np.random.normal(size=(300, ))\n",
    "    elif token == '<pad>':\n",
    "        init_embeddings[id_] = np.zeros(300)"
   ]
  },
  {
   "cell_type": "markdown",
   "metadata": {
    "hidden": true
   },
   "source": [
    "Initialize data loaders"
   ]
  },
  {
   "cell_type": "code",
   "execution_count": 138,
   "metadata": {
    "hidden": true
   },
   "outputs": [],
   "source": [
    "train_dataset = data_utils.TextDataset(train_tokens1, train_tokens2, train_labels, token2id)\n",
    "train_loader = torch.utils.data.DataLoader(dataset=train_dataset,\n",
    "                                           batch_size=BATCH_SIZE,\n",
    "                                           collate_fn=data_utils.text_collate_func,\n",
    "                                           shuffle=True)\n",
    "\n",
    "val_dataset = data_utils.TextDataset(val_tokens1, val_tokens2, val_labels, token2id)\n",
    "val_loader = torch.utils.data.DataLoader(dataset=val_dataset,\n",
    "                                           batch_size=BATCH_SIZE,\n",
    "                                           collate_fn=data_utils.text_collate_func,\n",
    "                                           shuffle=True)"
   ]
  },
  {
   "cell_type": "code",
   "execution_count": 139,
   "metadata": {
    "hidden": true
   },
   "outputs": [],
   "source": [
    "del ft_embeddings"
   ]
  },
  {
   "cell_type": "markdown",
   "metadata": {},
   "source": [
    "# Training models"
   ]
  },
  {
   "cell_type": "code",
   "execution_count": 142,
   "metadata": {},
   "outputs": [],
   "source": [
    "lr = 1e-4\n",
    "num_epochs = 10000\n",
    "patience = 5\n",
    "criterion = torch.nn.CrossEntropyLoss()"
   ]
  },
  {
   "cell_type": "markdown",
   "metadata": {},
   "source": [
    "## CNN tuning"
   ]
  },
  {
   "cell_type": "code",
   "execution_count": 41,
   "metadata": {},
   "outputs": [],
   "source": [
    "pars = {'kernel_size': [3, 5, 7],\n",
    "        'hidden_size': [64, 128, 256, 512],\n",
    "        'dropout': [0.0, 0.5]}\n",
    "param_grid = ParameterGrid(pars)"
   ]
  },
  {
   "cell_type": "code",
   "execution_count": 44,
   "metadata": {
    "scrolled": true
   },
   "outputs": [
    {
     "data": {
      "application/vnd.jupyter.widget-view+json": {
       "model_id": "bff4d1b35987496a85fd74352e66dc47",
       "version_major": 2,
       "version_minor": 0
      },
      "text/plain": [
       "HBox(children=(IntProgress(value=0, description='grid_search', max=24, style=ProgressStyle(description_width='…"
      ]
     },
     "metadata": {},
     "output_type": "display_data"
    },
    {
     "data": {
      "application/vnd.jupyter.widget-view+json": {
       "model_id": "77cdde51d84546c0857ad7df4dca9348",
       "version_major": 2,
       "version_minor": 0
      },
      "text/plain": [
       "HBox(children=(IntProgress(value=0, description='epoch', max=100000, style=ProgressStyle(description_width='in…"
      ]
     },
     "metadata": {},
     "output_type": "display_data"
    },
    {
     "name": "stdout",
     "output_type": "stream",
     "text": [
      "Early stopping\n",
      "                                          parameters  val_loss val_acc\n",
      "0  {'dropout': 0.0, 'hidden_size': 64, 'kernel_si...  0.792253   0.653\n"
     ]
    },
    {
     "data": {
      "application/vnd.jupyter.widget-view+json": {
       "model_id": "343f41768b6d495f92e323e8723f8a20",
       "version_major": 2,
       "version_minor": 0
      },
      "text/plain": [
       "HBox(children=(IntProgress(value=0, description='epoch', max=100000, style=ProgressStyle(description_width='in…"
      ]
     },
     "metadata": {},
     "output_type": "display_data"
    },
    {
     "name": "stdout",
     "output_type": "stream",
     "text": [
      "Early stopping\n",
      "                                          parameters  val_loss val_acc\n",
      "0  {'dropout': 0.0, 'hidden_size': 64, 'kernel_si...  0.792253   0.653\n",
      "1  {'dropout': 0.0, 'hidden_size': 64, 'kernel_si...  0.781188    0.66\n"
     ]
    },
    {
     "data": {
      "application/vnd.jupyter.widget-view+json": {
       "model_id": "53a52869ef964bdab6337ef9031caf07",
       "version_major": 2,
       "version_minor": 0
      },
      "text/plain": [
       "HBox(children=(IntProgress(value=0, description='epoch', max=100000, style=ProgressStyle(description_width='in…"
      ]
     },
     "metadata": {},
     "output_type": "display_data"
    },
    {
     "name": "stdout",
     "output_type": "stream",
     "text": [
      "Early stopping\n",
      "                                          parameters  val_loss val_acc\n",
      "0  {'dropout': 0.0, 'hidden_size': 64, 'kernel_si...  0.792253   0.653\n",
      "1  {'dropout': 0.0, 'hidden_size': 64, 'kernel_si...  0.781188    0.66\n",
      "2  {'dropout': 0.0, 'hidden_size': 64, 'kernel_si...  0.782115   0.657\n"
     ]
    },
    {
     "data": {
      "application/vnd.jupyter.widget-view+json": {
       "model_id": "95f4f005d5f047a7832c679342275537",
       "version_major": 2,
       "version_minor": 0
      },
      "text/plain": [
       "HBox(children=(IntProgress(value=0, description='epoch', max=100000, style=ProgressStyle(description_width='in…"
      ]
     },
     "metadata": {},
     "output_type": "display_data"
    },
    {
     "name": "stdout",
     "output_type": "stream",
     "text": [
      "Early stopping\n",
      "                                          parameters  val_loss val_acc\n",
      "0  {'dropout': 0.0, 'hidden_size': 64, 'kernel_si...  0.792253   0.653\n",
      "1  {'dropout': 0.0, 'hidden_size': 64, 'kernel_si...  0.781188    0.66\n",
      "2  {'dropout': 0.0, 'hidden_size': 64, 'kernel_si...  0.782115   0.657\n",
      "3  {'dropout': 0.0, 'hidden_size': 128, 'kernel_s...  0.781131   0.658\n"
     ]
    },
    {
     "data": {
      "application/vnd.jupyter.widget-view+json": {
       "model_id": "7b47f7341a5a418481967895806ab1d4",
       "version_major": 2,
       "version_minor": 0
      },
      "text/plain": [
       "HBox(children=(IntProgress(value=0, description='epoch', max=100000, style=ProgressStyle(description_width='in…"
      ]
     },
     "metadata": {},
     "output_type": "display_data"
    },
    {
     "name": "stdout",
     "output_type": "stream",
     "text": [
      "Early stopping\n",
      "                                          parameters  val_loss val_acc\n",
      "0  {'dropout': 0.0, 'hidden_size': 64, 'kernel_si...  0.792253   0.653\n",
      "1  {'dropout': 0.0, 'hidden_size': 64, 'kernel_si...  0.781188    0.66\n",
      "2  {'dropout': 0.0, 'hidden_size': 64, 'kernel_si...  0.782115   0.657\n",
      "3  {'dropout': 0.0, 'hidden_size': 128, 'kernel_s...  0.781131   0.658\n",
      "4  {'dropout': 0.0, 'hidden_size': 128, 'kernel_s...  0.788944   0.655\n"
     ]
    },
    {
     "data": {
      "application/vnd.jupyter.widget-view+json": {
       "model_id": "292907a08da14c4aade516717aef0b6a",
       "version_major": 2,
       "version_minor": 0
      },
      "text/plain": [
       "HBox(children=(IntProgress(value=0, description='epoch', max=100000, style=ProgressStyle(description_width='in…"
      ]
     },
     "metadata": {},
     "output_type": "display_data"
    },
    {
     "name": "stdout",
     "output_type": "stream",
     "text": [
      "Early stopping\n",
      "                                          parameters  val_loss val_acc\n",
      "0  {'dropout': 0.0, 'hidden_size': 64, 'kernel_si...  0.792253   0.653\n",
      "1  {'dropout': 0.0, 'hidden_size': 64, 'kernel_si...  0.781188    0.66\n",
      "2  {'dropout': 0.0, 'hidden_size': 64, 'kernel_si...  0.782115   0.657\n",
      "3  {'dropout': 0.0, 'hidden_size': 128, 'kernel_s...  0.781131   0.658\n",
      "4  {'dropout': 0.0, 'hidden_size': 128, 'kernel_s...  0.788944   0.655\n",
      "5  {'dropout': 0.0, 'hidden_size': 128, 'kernel_s...   0.78645   0.669\n"
     ]
    },
    {
     "data": {
      "application/vnd.jupyter.widget-view+json": {
       "model_id": "9ce5208b66494554a9233a0a647705e5",
       "version_major": 2,
       "version_minor": 0
      },
      "text/plain": [
       "HBox(children=(IntProgress(value=0, description='epoch', max=100000, style=ProgressStyle(description_width='in…"
      ]
     },
     "metadata": {},
     "output_type": "display_data"
    },
    {
     "name": "stdout",
     "output_type": "stream",
     "text": [
      "Early stopping\n",
      "                                          parameters  val_loss val_acc\n",
      "0  {'dropout': 0.0, 'hidden_size': 64, 'kernel_si...  0.792253   0.653\n",
      "1  {'dropout': 0.0, 'hidden_size': 64, 'kernel_si...  0.781188    0.66\n",
      "2  {'dropout': 0.0, 'hidden_size': 64, 'kernel_si...  0.782115   0.657\n",
      "3  {'dropout': 0.0, 'hidden_size': 128, 'kernel_s...  0.781131   0.658\n",
      "4  {'dropout': 0.0, 'hidden_size': 128, 'kernel_s...  0.788944   0.655\n",
      "5  {'dropout': 0.0, 'hidden_size': 128, 'kernel_s...   0.78645   0.669\n",
      "6  {'dropout': 0.0, 'hidden_size': 256, 'kernel_s...  0.767499   0.664\n"
     ]
    },
    {
     "data": {
      "application/vnd.jupyter.widget-view+json": {
       "model_id": "2c3ad41a532f46a7b2fb12e3cc49c6c2",
       "version_major": 2,
       "version_minor": 0
      },
      "text/plain": [
       "HBox(children=(IntProgress(value=0, description='epoch', max=100000, style=ProgressStyle(description_width='in…"
      ]
     },
     "metadata": {},
     "output_type": "display_data"
    },
    {
     "name": "stdout",
     "output_type": "stream",
     "text": [
      "Early stopping\n",
      "                                          parameters  val_loss val_acc\n",
      "0  {'dropout': 0.0, 'hidden_size': 64, 'kernel_si...  0.792253   0.653\n",
      "1  {'dropout': 0.0, 'hidden_size': 64, 'kernel_si...  0.781188    0.66\n",
      "2  {'dropout': 0.0, 'hidden_size': 64, 'kernel_si...  0.782115   0.657\n",
      "3  {'dropout': 0.0, 'hidden_size': 128, 'kernel_s...  0.781131   0.658\n",
      "4  {'dropout': 0.0, 'hidden_size': 128, 'kernel_s...  0.788944   0.655\n",
      "5  {'dropout': 0.0, 'hidden_size': 128, 'kernel_s...   0.78645   0.669\n",
      "6  {'dropout': 0.0, 'hidden_size': 256, 'kernel_s...  0.767499   0.664\n",
      "7  {'dropout': 0.0, 'hidden_size': 256, 'kernel_s...   0.77422   0.672\n"
     ]
    },
    {
     "data": {
      "application/vnd.jupyter.widget-view+json": {
       "model_id": "8bdbbe4d86c04362af728c5ab5e03c01",
       "version_major": 2,
       "version_minor": 0
      },
      "text/plain": [
       "HBox(children=(IntProgress(value=0, description='epoch', max=100000, style=ProgressStyle(description_width='in…"
      ]
     },
     "metadata": {},
     "output_type": "display_data"
    },
    {
     "name": "stdout",
     "output_type": "stream",
     "text": [
      "Early stopping\n",
      "                                          parameters  val_loss val_acc\n",
      "0  {'dropout': 0.0, 'hidden_size': 64, 'kernel_si...  0.792253   0.653\n",
      "1  {'dropout': 0.0, 'hidden_size': 64, 'kernel_si...  0.781188    0.66\n",
      "2  {'dropout': 0.0, 'hidden_size': 64, 'kernel_si...  0.782115   0.657\n",
      "3  {'dropout': 0.0, 'hidden_size': 128, 'kernel_s...  0.781131   0.658\n",
      "4  {'dropout': 0.0, 'hidden_size': 128, 'kernel_s...  0.788944   0.655\n",
      "5  {'dropout': 0.0, 'hidden_size': 128, 'kernel_s...   0.78645   0.669\n",
      "6  {'dropout': 0.0, 'hidden_size': 256, 'kernel_s...  0.767499   0.664\n",
      "7  {'dropout': 0.0, 'hidden_size': 256, 'kernel_s...   0.77422   0.672\n",
      "8  {'dropout': 0.0, 'hidden_size': 256, 'kernel_s...  0.793024   0.657\n"
     ]
    },
    {
     "data": {
      "application/vnd.jupyter.widget-view+json": {
       "model_id": "8b9ce471cf11401f9af14912d171f868",
       "version_major": 2,
       "version_minor": 0
      },
      "text/plain": [
       "HBox(children=(IntProgress(value=0, description='epoch', max=100000, style=ProgressStyle(description_width='in…"
      ]
     },
     "metadata": {},
     "output_type": "display_data"
    },
    {
     "name": "stdout",
     "output_type": "stream",
     "text": [
      "Early stopping\n",
      "                                          parameters  val_loss val_acc\n",
      "0  {'dropout': 0.0, 'hidden_size': 64, 'kernel_si...  0.792253   0.653\n",
      "1  {'dropout': 0.0, 'hidden_size': 64, 'kernel_si...  0.781188    0.66\n",
      "2  {'dropout': 0.0, 'hidden_size': 64, 'kernel_si...  0.782115   0.657\n",
      "3  {'dropout': 0.0, 'hidden_size': 128, 'kernel_s...  0.781131   0.658\n",
      "4  {'dropout': 0.0, 'hidden_size': 128, 'kernel_s...  0.788944   0.655\n",
      "5  {'dropout': 0.0, 'hidden_size': 128, 'kernel_s...   0.78645   0.669\n",
      "6  {'dropout': 0.0, 'hidden_size': 256, 'kernel_s...  0.767499   0.664\n",
      "7  {'dropout': 0.0, 'hidden_size': 256, 'kernel_s...   0.77422   0.672\n",
      "8  {'dropout': 0.0, 'hidden_size': 256, 'kernel_s...  0.793024   0.657\n",
      "9  {'dropout': 0.0, 'hidden_size': 512, 'kernel_s...  0.776088   0.663\n"
     ]
    },
    {
     "data": {
      "application/vnd.jupyter.widget-view+json": {
       "model_id": "666a5eb9e8b8492a89a45bc5ce080867",
       "version_major": 2,
       "version_minor": 0
      },
      "text/plain": [
       "HBox(children=(IntProgress(value=0, description='epoch', max=100000, style=ProgressStyle(description_width='in…"
      ]
     },
     "metadata": {},
     "output_type": "display_data"
    },
    {
     "name": "stdout",
     "output_type": "stream",
     "text": [
      "Early stopping\n",
      "                                           parameters  val_loss val_acc\n",
      "0   {'dropout': 0.0, 'hidden_size': 64, 'kernel_si...  0.792253   0.653\n",
      "1   {'dropout': 0.0, 'hidden_size': 64, 'kernel_si...  0.781188    0.66\n",
      "2   {'dropout': 0.0, 'hidden_size': 64, 'kernel_si...  0.782115   0.657\n",
      "3   {'dropout': 0.0, 'hidden_size': 128, 'kernel_s...  0.781131   0.658\n",
      "4   {'dropout': 0.0, 'hidden_size': 128, 'kernel_s...  0.788944   0.655\n",
      "5   {'dropout': 0.0, 'hidden_size': 128, 'kernel_s...   0.78645   0.669\n",
      "6   {'dropout': 0.0, 'hidden_size': 256, 'kernel_s...  0.767499   0.664\n",
      "7   {'dropout': 0.0, 'hidden_size': 256, 'kernel_s...   0.77422   0.672\n",
      "8   {'dropout': 0.0, 'hidden_size': 256, 'kernel_s...  0.793024   0.657\n",
      "9   {'dropout': 0.0, 'hidden_size': 512, 'kernel_s...  0.776088   0.663\n",
      "10  {'dropout': 0.0, 'hidden_size': 512, 'kernel_s...  0.763643   0.669\n"
     ]
    },
    {
     "data": {
      "application/vnd.jupyter.widget-view+json": {
       "model_id": "9246ce1851f4455b9c5f344ec2a280b5",
       "version_major": 2,
       "version_minor": 0
      },
      "text/plain": [
       "HBox(children=(IntProgress(value=0, description='epoch', max=100000, style=ProgressStyle(description_width='in…"
      ]
     },
     "metadata": {},
     "output_type": "display_data"
    },
    {
     "name": "stdout",
     "output_type": "stream",
     "text": [
      "Early stopping\n",
      "                                           parameters  val_loss val_acc\n",
      "0   {'dropout': 0.0, 'hidden_size': 64, 'kernel_si...  0.792253   0.653\n",
      "1   {'dropout': 0.0, 'hidden_size': 64, 'kernel_si...  0.781188    0.66\n",
      "2   {'dropout': 0.0, 'hidden_size': 64, 'kernel_si...  0.782115   0.657\n",
      "3   {'dropout': 0.0, 'hidden_size': 128, 'kernel_s...  0.781131   0.658\n",
      "4   {'dropout': 0.0, 'hidden_size': 128, 'kernel_s...  0.788944   0.655\n",
      "5   {'dropout': 0.0, 'hidden_size': 128, 'kernel_s...   0.78645   0.669\n",
      "6   {'dropout': 0.0, 'hidden_size': 256, 'kernel_s...  0.767499   0.664\n",
      "7   {'dropout': 0.0, 'hidden_size': 256, 'kernel_s...   0.77422   0.672\n",
      "8   {'dropout': 0.0, 'hidden_size': 256, 'kernel_s...  0.793024   0.657\n",
      "9   {'dropout': 0.0, 'hidden_size': 512, 'kernel_s...  0.776088   0.663\n",
      "10  {'dropout': 0.0, 'hidden_size': 512, 'kernel_s...  0.763643   0.669\n",
      "11  {'dropout': 0.0, 'hidden_size': 512, 'kernel_s...  0.771516   0.678\n"
     ]
    },
    {
     "data": {
      "application/vnd.jupyter.widget-view+json": {
       "model_id": "b2df016cdd354a85b5c72dc2c4c1000a",
       "version_major": 2,
       "version_minor": 0
      },
      "text/plain": [
       "HBox(children=(IntProgress(value=0, description='epoch', max=100000, style=ProgressStyle(description_width='in…"
      ]
     },
     "metadata": {},
     "output_type": "display_data"
    },
    {
     "name": "stdout",
     "output_type": "stream",
     "text": [
      "Early stopping\n",
      "                                           parameters  val_loss val_acc\n",
      "0   {'dropout': 0.0, 'hidden_size': 64, 'kernel_si...  0.792253   0.653\n",
      "1   {'dropout': 0.0, 'hidden_size': 64, 'kernel_si...  0.781188    0.66\n",
      "2   {'dropout': 0.0, 'hidden_size': 64, 'kernel_si...  0.782115   0.657\n",
      "3   {'dropout': 0.0, 'hidden_size': 128, 'kernel_s...  0.781131   0.658\n",
      "4   {'dropout': 0.0, 'hidden_size': 128, 'kernel_s...  0.788944   0.655\n",
      "5   {'dropout': 0.0, 'hidden_size': 128, 'kernel_s...   0.78645   0.669\n",
      "6   {'dropout': 0.0, 'hidden_size': 256, 'kernel_s...  0.767499   0.664\n",
      "7   {'dropout': 0.0, 'hidden_size': 256, 'kernel_s...   0.77422   0.672\n",
      "8   {'dropout': 0.0, 'hidden_size': 256, 'kernel_s...  0.793024   0.657\n",
      "9   {'dropout': 0.0, 'hidden_size': 512, 'kernel_s...  0.776088   0.663\n",
      "10  {'dropout': 0.0, 'hidden_size': 512, 'kernel_s...  0.763643   0.669\n",
      "11  {'dropout': 0.0, 'hidden_size': 512, 'kernel_s...  0.771516   0.678\n",
      "12  {'dropout': 0.5, 'hidden_size': 64, 'kernel_si...   0.78778   0.634\n"
     ]
    },
    {
     "data": {
      "application/vnd.jupyter.widget-view+json": {
       "model_id": "71cd17f34b744feca1f4f3810ea72e13",
       "version_major": 2,
       "version_minor": 0
      },
      "text/plain": [
       "HBox(children=(IntProgress(value=0, description='epoch', max=100000, style=ProgressStyle(description_width='in…"
      ]
     },
     "metadata": {},
     "output_type": "display_data"
    },
    {
     "name": "stdout",
     "output_type": "stream",
     "text": [
      "Early stopping\n",
      "                                           parameters  val_loss val_acc\n",
      "0   {'dropout': 0.0, 'hidden_size': 64, 'kernel_si...  0.792253   0.653\n",
      "1   {'dropout': 0.0, 'hidden_size': 64, 'kernel_si...  0.781188    0.66\n",
      "2   {'dropout': 0.0, 'hidden_size': 64, 'kernel_si...  0.782115   0.657\n",
      "3   {'dropout': 0.0, 'hidden_size': 128, 'kernel_s...  0.781131   0.658\n",
      "4   {'dropout': 0.0, 'hidden_size': 128, 'kernel_s...  0.788944   0.655\n",
      "5   {'dropout': 0.0, 'hidden_size': 128, 'kernel_s...   0.78645   0.669\n",
      "6   {'dropout': 0.0, 'hidden_size': 256, 'kernel_s...  0.767499   0.664\n",
      "7   {'dropout': 0.0, 'hidden_size': 256, 'kernel_s...   0.77422   0.672\n",
      "8   {'dropout': 0.0, 'hidden_size': 256, 'kernel_s...  0.793024   0.657\n",
      "9   {'dropout': 0.0, 'hidden_size': 512, 'kernel_s...  0.776088   0.663\n",
      "10  {'dropout': 0.0, 'hidden_size': 512, 'kernel_s...  0.763643   0.669\n",
      "11  {'dropout': 0.0, 'hidden_size': 512, 'kernel_s...  0.771516   0.678\n",
      "12  {'dropout': 0.5, 'hidden_size': 64, 'kernel_si...   0.78778   0.634\n",
      "13  {'dropout': 0.5, 'hidden_size': 64, 'kernel_si...  0.783428   0.653\n"
     ]
    },
    {
     "data": {
      "application/vnd.jupyter.widget-view+json": {
       "model_id": "cea1d8c065834026aa9ce8ea81c8e160",
       "version_major": 2,
       "version_minor": 0
      },
      "text/plain": [
       "HBox(children=(IntProgress(value=0, description='epoch', max=100000, style=ProgressStyle(description_width='in…"
      ]
     },
     "metadata": {},
     "output_type": "display_data"
    },
    {
     "name": "stdout",
     "output_type": "stream",
     "text": [
      "Early stopping\n",
      "                                           parameters  val_loss val_acc\n",
      "0   {'dropout': 0.0, 'hidden_size': 64, 'kernel_si...  0.792253   0.653\n",
      "1   {'dropout': 0.0, 'hidden_size': 64, 'kernel_si...  0.781188    0.66\n",
      "2   {'dropout': 0.0, 'hidden_size': 64, 'kernel_si...  0.782115   0.657\n",
      "3   {'dropout': 0.0, 'hidden_size': 128, 'kernel_s...  0.781131   0.658\n",
      "4   {'dropout': 0.0, 'hidden_size': 128, 'kernel_s...  0.788944   0.655\n",
      "5   {'dropout': 0.0, 'hidden_size': 128, 'kernel_s...   0.78645   0.669\n",
      "6   {'dropout': 0.0, 'hidden_size': 256, 'kernel_s...  0.767499   0.664\n",
      "7   {'dropout': 0.0, 'hidden_size': 256, 'kernel_s...   0.77422   0.672\n",
      "8   {'dropout': 0.0, 'hidden_size': 256, 'kernel_s...  0.793024   0.657\n",
      "9   {'dropout': 0.0, 'hidden_size': 512, 'kernel_s...  0.776088   0.663\n",
      "10  {'dropout': 0.0, 'hidden_size': 512, 'kernel_s...  0.763643   0.669\n",
      "11  {'dropout': 0.0, 'hidden_size': 512, 'kernel_s...  0.771516   0.678\n",
      "12  {'dropout': 0.5, 'hidden_size': 64, 'kernel_si...   0.78778   0.634\n",
      "13  {'dropout': 0.5, 'hidden_size': 64, 'kernel_si...  0.783428   0.653\n",
      "14  {'dropout': 0.5, 'hidden_size': 64, 'kernel_si...  0.786346   0.652\n"
     ]
    },
    {
     "data": {
      "application/vnd.jupyter.widget-view+json": {
       "model_id": "f3fe699e340247daac5a40903105b704",
       "version_major": 2,
       "version_minor": 0
      },
      "text/plain": [
       "HBox(children=(IntProgress(value=0, description='epoch', max=100000, style=ProgressStyle(description_width='in…"
      ]
     },
     "metadata": {},
     "output_type": "display_data"
    },
    {
     "name": "stdout",
     "output_type": "stream",
     "text": [
      "Early stopping\n",
      "                                           parameters  val_loss val_acc\n",
      "0   {'dropout': 0.0, 'hidden_size': 64, 'kernel_si...  0.792253   0.653\n",
      "1   {'dropout': 0.0, 'hidden_size': 64, 'kernel_si...  0.781188    0.66\n",
      "2   {'dropout': 0.0, 'hidden_size': 64, 'kernel_si...  0.782115   0.657\n",
      "3   {'dropout': 0.0, 'hidden_size': 128, 'kernel_s...  0.781131   0.658\n",
      "4   {'dropout': 0.0, 'hidden_size': 128, 'kernel_s...  0.788944   0.655\n",
      "5   {'dropout': 0.0, 'hidden_size': 128, 'kernel_s...   0.78645   0.669\n",
      "6   {'dropout': 0.0, 'hidden_size': 256, 'kernel_s...  0.767499   0.664\n",
      "7   {'dropout': 0.0, 'hidden_size': 256, 'kernel_s...   0.77422   0.672\n",
      "8   {'dropout': 0.0, 'hidden_size': 256, 'kernel_s...  0.793024   0.657\n",
      "9   {'dropout': 0.0, 'hidden_size': 512, 'kernel_s...  0.776088   0.663\n",
      "10  {'dropout': 0.0, 'hidden_size': 512, 'kernel_s...  0.763643   0.669\n",
      "11  {'dropout': 0.0, 'hidden_size': 512, 'kernel_s...  0.771516   0.678\n",
      "12  {'dropout': 0.5, 'hidden_size': 64, 'kernel_si...   0.78778   0.634\n",
      "13  {'dropout': 0.5, 'hidden_size': 64, 'kernel_si...  0.783428   0.653\n",
      "14  {'dropout': 0.5, 'hidden_size': 64, 'kernel_si...  0.786346   0.652\n",
      "15  {'dropout': 0.5, 'hidden_size': 128, 'kernel_s...  0.771771   0.663\n"
     ]
    },
    {
     "data": {
      "application/vnd.jupyter.widget-view+json": {
       "model_id": "985a72f6c8824d079d722caec924767b",
       "version_major": 2,
       "version_minor": 0
      },
      "text/plain": [
       "HBox(children=(IntProgress(value=0, description='epoch', max=100000, style=ProgressStyle(description_width='in…"
      ]
     },
     "metadata": {},
     "output_type": "display_data"
    },
    {
     "name": "stdout",
     "output_type": "stream",
     "text": [
      "Early stopping\n",
      "                                           parameters  val_loss val_acc\n",
      "0   {'dropout': 0.0, 'hidden_size': 64, 'kernel_si...  0.792253   0.653\n",
      "1   {'dropout': 0.0, 'hidden_size': 64, 'kernel_si...  0.781188    0.66\n",
      "2   {'dropout': 0.0, 'hidden_size': 64, 'kernel_si...  0.782115   0.657\n",
      "3   {'dropout': 0.0, 'hidden_size': 128, 'kernel_s...  0.781131   0.658\n",
      "4   {'dropout': 0.0, 'hidden_size': 128, 'kernel_s...  0.788944   0.655\n",
      "5   {'dropout': 0.0, 'hidden_size': 128, 'kernel_s...   0.78645   0.669\n",
      "6   {'dropout': 0.0, 'hidden_size': 256, 'kernel_s...  0.767499   0.664\n",
      "7   {'dropout': 0.0, 'hidden_size': 256, 'kernel_s...   0.77422   0.672\n",
      "8   {'dropout': 0.0, 'hidden_size': 256, 'kernel_s...  0.793024   0.657\n",
      "9   {'dropout': 0.0, 'hidden_size': 512, 'kernel_s...  0.776088   0.663\n",
      "10  {'dropout': 0.0, 'hidden_size': 512, 'kernel_s...  0.763643   0.669\n",
      "11  {'dropout': 0.0, 'hidden_size': 512, 'kernel_s...  0.771516   0.678\n",
      "12  {'dropout': 0.5, 'hidden_size': 64, 'kernel_si...   0.78778   0.634\n",
      "13  {'dropout': 0.5, 'hidden_size': 64, 'kernel_si...  0.783428   0.653\n",
      "14  {'dropout': 0.5, 'hidden_size': 64, 'kernel_si...  0.786346   0.652\n",
      "15  {'dropout': 0.5, 'hidden_size': 128, 'kernel_s...  0.771771   0.663\n",
      "16  {'dropout': 0.5, 'hidden_size': 128, 'kernel_s...  0.790339   0.666\n"
     ]
    },
    {
     "data": {
      "application/vnd.jupyter.widget-view+json": {
       "model_id": "2a54e2e1f126489caa3e2ed96e84ac01",
       "version_major": 2,
       "version_minor": 0
      },
      "text/plain": [
       "HBox(children=(IntProgress(value=0, description='epoch', max=100000, style=ProgressStyle(description_width='in…"
      ]
     },
     "metadata": {},
     "output_type": "display_data"
    },
    {
     "name": "stdout",
     "output_type": "stream",
     "text": [
      "Early stopping\n",
      "                                           parameters  val_loss val_acc\n",
      "0   {'dropout': 0.0, 'hidden_size': 64, 'kernel_si...  0.792253   0.653\n",
      "1   {'dropout': 0.0, 'hidden_size': 64, 'kernel_si...  0.781188    0.66\n",
      "2   {'dropout': 0.0, 'hidden_size': 64, 'kernel_si...  0.782115   0.657\n",
      "3   {'dropout': 0.0, 'hidden_size': 128, 'kernel_s...  0.781131   0.658\n",
      "4   {'dropout': 0.0, 'hidden_size': 128, 'kernel_s...  0.788944   0.655\n",
      "5   {'dropout': 0.0, 'hidden_size': 128, 'kernel_s...   0.78645   0.669\n",
      "6   {'dropout': 0.0, 'hidden_size': 256, 'kernel_s...  0.767499   0.664\n",
      "7   {'dropout': 0.0, 'hidden_size': 256, 'kernel_s...   0.77422   0.672\n",
      "8   {'dropout': 0.0, 'hidden_size': 256, 'kernel_s...  0.793024   0.657\n",
      "9   {'dropout': 0.0, 'hidden_size': 512, 'kernel_s...  0.776088   0.663\n",
      "10  {'dropout': 0.0, 'hidden_size': 512, 'kernel_s...  0.763643   0.669\n",
      "11  {'dropout': 0.0, 'hidden_size': 512, 'kernel_s...  0.771516   0.678\n",
      "12  {'dropout': 0.5, 'hidden_size': 64, 'kernel_si...   0.78778   0.634\n",
      "13  {'dropout': 0.5, 'hidden_size': 64, 'kernel_si...  0.783428   0.653\n",
      "14  {'dropout': 0.5, 'hidden_size': 64, 'kernel_si...  0.786346   0.652\n",
      "15  {'dropout': 0.5, 'hidden_size': 128, 'kernel_s...  0.771771   0.663\n",
      "16  {'dropout': 0.5, 'hidden_size': 128, 'kernel_s...  0.790339   0.666\n",
      "17  {'dropout': 0.5, 'hidden_size': 128, 'kernel_s...  0.798694   0.643\n"
     ]
    },
    {
     "data": {
      "application/vnd.jupyter.widget-view+json": {
       "model_id": "128333f9b127422dba162638296fe8ed",
       "version_major": 2,
       "version_minor": 0
      },
      "text/plain": [
       "HBox(children=(IntProgress(value=0, description='epoch', max=100000, style=ProgressStyle(description_width='in…"
      ]
     },
     "metadata": {},
     "output_type": "display_data"
    },
    {
     "name": "stdout",
     "output_type": "stream",
     "text": [
      "Early stopping\n",
      "                                           parameters  val_loss val_acc\n",
      "0   {'dropout': 0.0, 'hidden_size': 64, 'kernel_si...  0.792253   0.653\n",
      "1   {'dropout': 0.0, 'hidden_size': 64, 'kernel_si...  0.781188    0.66\n",
      "2   {'dropout': 0.0, 'hidden_size': 64, 'kernel_si...  0.782115   0.657\n",
      "3   {'dropout': 0.0, 'hidden_size': 128, 'kernel_s...  0.781131   0.658\n",
      "4   {'dropout': 0.0, 'hidden_size': 128, 'kernel_s...  0.788944   0.655\n",
      "5   {'dropout': 0.0, 'hidden_size': 128, 'kernel_s...   0.78645   0.669\n",
      "6   {'dropout': 0.0, 'hidden_size': 256, 'kernel_s...  0.767499   0.664\n",
      "7   {'dropout': 0.0, 'hidden_size': 256, 'kernel_s...   0.77422   0.672\n",
      "8   {'dropout': 0.0, 'hidden_size': 256, 'kernel_s...  0.793024   0.657\n",
      "9   {'dropout': 0.0, 'hidden_size': 512, 'kernel_s...  0.776088   0.663\n",
      "10  {'dropout': 0.0, 'hidden_size': 512, 'kernel_s...  0.763643   0.669\n",
      "11  {'dropout': 0.0, 'hidden_size': 512, 'kernel_s...  0.771516   0.678\n",
      "12  {'dropout': 0.5, 'hidden_size': 64, 'kernel_si...   0.78778   0.634\n",
      "13  {'dropout': 0.5, 'hidden_size': 64, 'kernel_si...  0.783428   0.653\n",
      "14  {'dropout': 0.5, 'hidden_size': 64, 'kernel_si...  0.786346   0.652\n",
      "15  {'dropout': 0.5, 'hidden_size': 128, 'kernel_s...  0.771771   0.663\n",
      "16  {'dropout': 0.5, 'hidden_size': 128, 'kernel_s...  0.790339   0.666\n",
      "17  {'dropout': 0.5, 'hidden_size': 128, 'kernel_s...  0.798694   0.643\n",
      "18  {'dropout': 0.5, 'hidden_size': 256, 'kernel_s...  0.768024   0.656\n"
     ]
    },
    {
     "data": {
      "application/vnd.jupyter.widget-view+json": {
       "model_id": "7c99f085866941df8e68bd080e58f6ca",
       "version_major": 2,
       "version_minor": 0
      },
      "text/plain": [
       "HBox(children=(IntProgress(value=0, description='epoch', max=100000, style=ProgressStyle(description_width='in…"
      ]
     },
     "metadata": {},
     "output_type": "display_data"
    },
    {
     "name": "stdout",
     "output_type": "stream",
     "text": [
      "Early stopping\n",
      "                                           parameters  val_loss val_acc\n",
      "0   {'dropout': 0.0, 'hidden_size': 64, 'kernel_si...  0.792253   0.653\n",
      "1   {'dropout': 0.0, 'hidden_size': 64, 'kernel_si...  0.781188    0.66\n",
      "2   {'dropout': 0.0, 'hidden_size': 64, 'kernel_si...  0.782115   0.657\n",
      "3   {'dropout': 0.0, 'hidden_size': 128, 'kernel_s...  0.781131   0.658\n",
      "4   {'dropout': 0.0, 'hidden_size': 128, 'kernel_s...  0.788944   0.655\n",
      "5   {'dropout': 0.0, 'hidden_size': 128, 'kernel_s...   0.78645   0.669\n",
      "6   {'dropout': 0.0, 'hidden_size': 256, 'kernel_s...  0.767499   0.664\n",
      "7   {'dropout': 0.0, 'hidden_size': 256, 'kernel_s...   0.77422   0.672\n",
      "8   {'dropout': 0.0, 'hidden_size': 256, 'kernel_s...  0.793024   0.657\n",
      "9   {'dropout': 0.0, 'hidden_size': 512, 'kernel_s...  0.776088   0.663\n",
      "10  {'dropout': 0.0, 'hidden_size': 512, 'kernel_s...  0.763643   0.669\n",
      "11  {'dropout': 0.0, 'hidden_size': 512, 'kernel_s...  0.771516   0.678\n",
      "12  {'dropout': 0.5, 'hidden_size': 64, 'kernel_si...   0.78778   0.634\n",
      "13  {'dropout': 0.5, 'hidden_size': 64, 'kernel_si...  0.783428   0.653\n",
      "14  {'dropout': 0.5, 'hidden_size': 64, 'kernel_si...  0.786346   0.652\n",
      "15  {'dropout': 0.5, 'hidden_size': 128, 'kernel_s...  0.771771   0.663\n",
      "16  {'dropout': 0.5, 'hidden_size': 128, 'kernel_s...  0.790339   0.666\n",
      "17  {'dropout': 0.5, 'hidden_size': 128, 'kernel_s...  0.798694   0.643\n",
      "18  {'dropout': 0.5, 'hidden_size': 256, 'kernel_s...  0.768024   0.656\n",
      "19  {'dropout': 0.5, 'hidden_size': 256, 'kernel_s...  0.767655   0.667\n"
     ]
    },
    {
     "data": {
      "application/vnd.jupyter.widget-view+json": {
       "model_id": "9ec3ded79b19441badcc72adb50be402",
       "version_major": 2,
       "version_minor": 0
      },
      "text/plain": [
       "HBox(children=(IntProgress(value=0, description='epoch', max=100000, style=ProgressStyle(description_width='in…"
      ]
     },
     "metadata": {},
     "output_type": "display_data"
    },
    {
     "name": "stdout",
     "output_type": "stream",
     "text": [
      "Early stopping\n",
      "                                           parameters  val_loss val_acc\n",
      "0   {'dropout': 0.0, 'hidden_size': 64, 'kernel_si...  0.792253   0.653\n",
      "1   {'dropout': 0.0, 'hidden_size': 64, 'kernel_si...  0.781188    0.66\n",
      "2   {'dropout': 0.0, 'hidden_size': 64, 'kernel_si...  0.782115   0.657\n",
      "3   {'dropout': 0.0, 'hidden_size': 128, 'kernel_s...  0.781131   0.658\n",
      "4   {'dropout': 0.0, 'hidden_size': 128, 'kernel_s...  0.788944   0.655\n",
      "5   {'dropout': 0.0, 'hidden_size': 128, 'kernel_s...   0.78645   0.669\n",
      "6   {'dropout': 0.0, 'hidden_size': 256, 'kernel_s...  0.767499   0.664\n",
      "7   {'dropout': 0.0, 'hidden_size': 256, 'kernel_s...   0.77422   0.672\n",
      "8   {'dropout': 0.0, 'hidden_size': 256, 'kernel_s...  0.793024   0.657\n",
      "9   {'dropout': 0.0, 'hidden_size': 512, 'kernel_s...  0.776088   0.663\n",
      "10  {'dropout': 0.0, 'hidden_size': 512, 'kernel_s...  0.763643   0.669\n",
      "11  {'dropout': 0.0, 'hidden_size': 512, 'kernel_s...  0.771516   0.678\n",
      "12  {'dropout': 0.5, 'hidden_size': 64, 'kernel_si...   0.78778   0.634\n",
      "13  {'dropout': 0.5, 'hidden_size': 64, 'kernel_si...  0.783428   0.653\n",
      "14  {'dropout': 0.5, 'hidden_size': 64, 'kernel_si...  0.786346   0.652\n",
      "15  {'dropout': 0.5, 'hidden_size': 128, 'kernel_s...  0.771771   0.663\n",
      "16  {'dropout': 0.5, 'hidden_size': 128, 'kernel_s...  0.790339   0.666\n",
      "17  {'dropout': 0.5, 'hidden_size': 128, 'kernel_s...  0.798694   0.643\n",
      "18  {'dropout': 0.5, 'hidden_size': 256, 'kernel_s...  0.768024   0.656\n",
      "19  {'dropout': 0.5, 'hidden_size': 256, 'kernel_s...  0.767655   0.667\n",
      "20  {'dropout': 0.5, 'hidden_size': 256, 'kernel_s...  0.796832   0.636\n"
     ]
    },
    {
     "data": {
      "application/vnd.jupyter.widget-view+json": {
       "model_id": "dd1bbd4a72f04abfa0a93e860ecc1f4b",
       "version_major": 2,
       "version_minor": 0
      },
      "text/plain": [
       "HBox(children=(IntProgress(value=0, description='epoch', max=100000, style=ProgressStyle(description_width='in…"
      ]
     },
     "metadata": {},
     "output_type": "display_data"
    },
    {
     "name": "stdout",
     "output_type": "stream",
     "text": [
      "Early stopping\n",
      "                                           parameters  val_loss val_acc\n",
      "0   {'dropout': 0.0, 'hidden_size': 64, 'kernel_si...  0.792253   0.653\n",
      "1   {'dropout': 0.0, 'hidden_size': 64, 'kernel_si...  0.781188    0.66\n",
      "2   {'dropout': 0.0, 'hidden_size': 64, 'kernel_si...  0.782115   0.657\n",
      "3   {'dropout': 0.0, 'hidden_size': 128, 'kernel_s...  0.781131   0.658\n",
      "4   {'dropout': 0.0, 'hidden_size': 128, 'kernel_s...  0.788944   0.655\n",
      "5   {'dropout': 0.0, 'hidden_size': 128, 'kernel_s...   0.78645   0.669\n",
      "6   {'dropout': 0.0, 'hidden_size': 256, 'kernel_s...  0.767499   0.664\n",
      "7   {'dropout': 0.0, 'hidden_size': 256, 'kernel_s...   0.77422   0.672\n",
      "8   {'dropout': 0.0, 'hidden_size': 256, 'kernel_s...  0.793024   0.657\n",
      "9   {'dropout': 0.0, 'hidden_size': 512, 'kernel_s...  0.776088   0.663\n",
      "10  {'dropout': 0.0, 'hidden_size': 512, 'kernel_s...  0.763643   0.669\n",
      "11  {'dropout': 0.0, 'hidden_size': 512, 'kernel_s...  0.771516   0.678\n",
      "12  {'dropout': 0.5, 'hidden_size': 64, 'kernel_si...   0.78778   0.634\n",
      "13  {'dropout': 0.5, 'hidden_size': 64, 'kernel_si...  0.783428   0.653\n",
      "14  {'dropout': 0.5, 'hidden_size': 64, 'kernel_si...  0.786346   0.652\n",
      "15  {'dropout': 0.5, 'hidden_size': 128, 'kernel_s...  0.771771   0.663\n",
      "16  {'dropout': 0.5, 'hidden_size': 128, 'kernel_s...  0.790339   0.666\n",
      "17  {'dropout': 0.5, 'hidden_size': 128, 'kernel_s...  0.798694   0.643\n",
      "18  {'dropout': 0.5, 'hidden_size': 256, 'kernel_s...  0.768024   0.656\n",
      "19  {'dropout': 0.5, 'hidden_size': 256, 'kernel_s...  0.767655   0.667\n",
      "20  {'dropout': 0.5, 'hidden_size': 256, 'kernel_s...  0.796832   0.636\n",
      "21  {'dropout': 0.5, 'hidden_size': 512, 'kernel_s...  0.759993   0.681\n"
     ]
    },
    {
     "data": {
      "application/vnd.jupyter.widget-view+json": {
       "model_id": "62fb6f9b6c7d41389704d531b482e2a8",
       "version_major": 2,
       "version_minor": 0
      },
      "text/plain": [
       "HBox(children=(IntProgress(value=0, description='epoch', max=100000, style=ProgressStyle(description_width='in…"
      ]
     },
     "metadata": {},
     "output_type": "display_data"
    },
    {
     "name": "stdout",
     "output_type": "stream",
     "text": [
      "Early stopping\n",
      "                                           parameters  val_loss val_acc\n",
      "0   {'dropout': 0.0, 'hidden_size': 64, 'kernel_si...  0.792253   0.653\n",
      "1   {'dropout': 0.0, 'hidden_size': 64, 'kernel_si...  0.781188    0.66\n",
      "2   {'dropout': 0.0, 'hidden_size': 64, 'kernel_si...  0.782115   0.657\n",
      "3   {'dropout': 0.0, 'hidden_size': 128, 'kernel_s...  0.781131   0.658\n",
      "4   {'dropout': 0.0, 'hidden_size': 128, 'kernel_s...  0.788944   0.655\n",
      "5   {'dropout': 0.0, 'hidden_size': 128, 'kernel_s...   0.78645   0.669\n",
      "6   {'dropout': 0.0, 'hidden_size': 256, 'kernel_s...  0.767499   0.664\n",
      "7   {'dropout': 0.0, 'hidden_size': 256, 'kernel_s...   0.77422   0.672\n",
      "8   {'dropout': 0.0, 'hidden_size': 256, 'kernel_s...  0.793024   0.657\n",
      "9   {'dropout': 0.0, 'hidden_size': 512, 'kernel_s...  0.776088   0.663\n",
      "10  {'dropout': 0.0, 'hidden_size': 512, 'kernel_s...  0.763643   0.669\n",
      "11  {'dropout': 0.0, 'hidden_size': 512, 'kernel_s...  0.771516   0.678\n",
      "12  {'dropout': 0.5, 'hidden_size': 64, 'kernel_si...   0.78778   0.634\n",
      "13  {'dropout': 0.5, 'hidden_size': 64, 'kernel_si...  0.783428   0.653\n",
      "14  {'dropout': 0.5, 'hidden_size': 64, 'kernel_si...  0.786346   0.652\n",
      "15  {'dropout': 0.5, 'hidden_size': 128, 'kernel_s...  0.771771   0.663\n",
      "16  {'dropout': 0.5, 'hidden_size': 128, 'kernel_s...  0.790339   0.666\n",
      "17  {'dropout': 0.5, 'hidden_size': 128, 'kernel_s...  0.798694   0.643\n",
      "18  {'dropout': 0.5, 'hidden_size': 256, 'kernel_s...  0.768024   0.656\n",
      "19  {'dropout': 0.5, 'hidden_size': 256, 'kernel_s...  0.767655   0.667\n",
      "20  {'dropout': 0.5, 'hidden_size': 256, 'kernel_s...  0.796832   0.636\n",
      "21  {'dropout': 0.5, 'hidden_size': 512, 'kernel_s...  0.759993   0.681\n",
      "22  {'dropout': 0.5, 'hidden_size': 512, 'kernel_s...  0.763898   0.656\n"
     ]
    },
    {
     "data": {
      "application/vnd.jupyter.widget-view+json": {
       "model_id": "0d10affe31c545c28340c14844a91a6f",
       "version_major": 2,
       "version_minor": 0
      },
      "text/plain": [
       "HBox(children=(IntProgress(value=0, description='epoch', max=100000, style=ProgressStyle(description_width='in…"
      ]
     },
     "metadata": {},
     "output_type": "display_data"
    },
    {
     "name": "stdout",
     "output_type": "stream",
     "text": [
      "Early stopping\n",
      "                                           parameters  val_loss val_acc\n",
      "0   {'dropout': 0.0, 'hidden_size': 64, 'kernel_si...  0.792253   0.653\n",
      "1   {'dropout': 0.0, 'hidden_size': 64, 'kernel_si...  0.781188    0.66\n",
      "2   {'dropout': 0.0, 'hidden_size': 64, 'kernel_si...  0.782115   0.657\n",
      "3   {'dropout': 0.0, 'hidden_size': 128, 'kernel_s...  0.781131   0.658\n",
      "4   {'dropout': 0.0, 'hidden_size': 128, 'kernel_s...  0.788944   0.655\n",
      "5   {'dropout': 0.0, 'hidden_size': 128, 'kernel_s...   0.78645   0.669\n",
      "6   {'dropout': 0.0, 'hidden_size': 256, 'kernel_s...  0.767499   0.664\n",
      "7   {'dropout': 0.0, 'hidden_size': 256, 'kernel_s...   0.77422   0.672\n",
      "8   {'dropout': 0.0, 'hidden_size': 256, 'kernel_s...  0.793024   0.657\n",
      "9   {'dropout': 0.0, 'hidden_size': 512, 'kernel_s...  0.776088   0.663\n",
      "10  {'dropout': 0.0, 'hidden_size': 512, 'kernel_s...  0.763643   0.669\n",
      "11  {'dropout': 0.0, 'hidden_size': 512, 'kernel_s...  0.771516   0.678\n",
      "12  {'dropout': 0.5, 'hidden_size': 64, 'kernel_si...   0.78778   0.634\n",
      "13  {'dropout': 0.5, 'hidden_size': 64, 'kernel_si...  0.783428   0.653\n",
      "14  {'dropout': 0.5, 'hidden_size': 64, 'kernel_si...  0.786346   0.652\n",
      "15  {'dropout': 0.5, 'hidden_size': 128, 'kernel_s...  0.771771   0.663\n",
      "16  {'dropout': 0.5, 'hidden_size': 128, 'kernel_s...  0.790339   0.666\n",
      "17  {'dropout': 0.5, 'hidden_size': 128, 'kernel_s...  0.798694   0.643\n",
      "18  {'dropout': 0.5, 'hidden_size': 256, 'kernel_s...  0.768024   0.656\n",
      "19  {'dropout': 0.5, 'hidden_size': 256, 'kernel_s...  0.767655   0.667\n",
      "20  {'dropout': 0.5, 'hidden_size': 256, 'kernel_s...  0.796832   0.636\n",
      "21  {'dropout': 0.5, 'hidden_size': 512, 'kernel_s...  0.759993   0.681\n",
      "22  {'dropout': 0.5, 'hidden_size': 512, 'kernel_s...  0.763898   0.656\n",
      "23  {'dropout': 0.5, 'hidden_size': 512, 'kernel_s...  0.778325   0.667\n"
     ]
    }
   ],
   "source": [
    "best_losses_cnn = pd.DataFrame(columns=['parameters', 'val_loss', 'val_acc'])\n",
    "best_losses_cnn['parameters'] = list(param_grid)\n",
    "for i, params in enumerate(tqdm_notebook(param_grid, desc='grid_search')):\n",
    "    cnn_encoder = models.CNNEncoder(\n",
    "        EMBED_SIZE,\n",
    "        params['hidden_size'],\n",
    "        len(token2id),\n",
    "        PAD_IDX,\n",
    "        params['kernel_size'],\n",
    "        init_embeddings).to(DEVICE)\n",
    "    cnn_model = models.InferenceModel(\n",
    "        cnn_encoder,\n",
    "        NUM_CLASSES,\n",
    "        params['hidden_size'] * 2,\n",
    "        dropout=params['dropout']).to(DEVICE)\n",
    "    cnn_optimizer = torch.optim.Adam(cnn_model.parameters(), lr=lr)\n",
    "\n",
    "    best_val_loss = np.inf\n",
    "    counter = 0\n",
    "    for epoch in tqdm_notebook(range(100000), desc='epoch'):\n",
    "        if counter > patience:\n",
    "            print('Early stopping')\n",
    "            break\n",
    "        loss_train = training_utils.train_model(cnn_model, cnn_optimizer,\n",
    "                                                train_loader, criterion)\n",
    "        loss_val, ys_hat, ys = training_utils.eval_model(\n",
    "            cnn_model, val_loader, criterion)\n",
    "        acc = metrics.accuracy_score(ys, ys_hat.argmax(axis=1))\n",
    "        if loss_val < best_val_loss:\n",
    "            best_val_loss = loss_val\n",
    "            best_acc = acc\n",
    "            counter = 0\n",
    "        else:\n",
    "            counter += 1\n",
    "    best_losses_cnn.loc[i, 'val_loss'] = best_val_loss\n",
    "    best_losses_cnn.loc[i, 'val_acc'] = best_acc\n",
    "    \n",
    "    # need to subtract parameters that are not actually trainable\n",
    "    best_losses_cnn.loc[i, 'total_params'] = sum(\n",
    "        p.numel() for p in cnn_model.parameters()\n",
    "        if p.requires_grad) - (len(token2id) - 1) * EMBED_SIZE\n",
    "\n",
    "    print(best_losses_cnn.head(i + 1))"
   ]
  },
  {
   "cell_type": "code",
   "execution_count": 72,
   "metadata": {},
   "outputs": [],
   "source": [
    "best_losses_cnn['val_loss'] = pd.to_numeric(best_losses_cnn['val_loss'])\n",
    "best_losses_cnn['val_acc'] = pd.to_numeric(best_losses_cnn['val_acc'])\n",
    "best_losses_cnn = best_losses_cnn.round(3)"
   ]
  },
  {
   "cell_type": "code",
   "execution_count": 79,
   "metadata": {},
   "outputs": [],
   "source": [
    "best_losses_cnn = pd.concat([\n",
    "    best_losses_cnn['parameters'].apply(pd.Series),\n",
    "    best_losses_cnn.drop('parameters', axis=1)\n",
    "], axis=1)"
   ]
  },
  {
   "cell_type": "code",
   "execution_count": 80,
   "metadata": {
    "scrolled": true
   },
   "outputs": [
    {
     "name": "stdout",
     "output_type": "stream",
     "text": [
      "\\begin{tabular}{rrrrrr}\n",
      "\\toprule\n",
      " dropout &  hidden\\_size &  kernel\\_size &  val\\_loss &  val\\_acc &  total\\_params \\\\\n",
      "\\midrule\n",
      "     0.0 &         64.0 &          3.0 &     0.792 &    0.653 &       87215.0 \\\\\n",
      "     0.0 &         64.0 &          5.0 &     0.781 &    0.660 &      133807.0 \\\\\n",
      "     0.0 &         64.0 &          7.0 &     0.782 &    0.657 &      180399.0 \\\\\n",
      "     0.0 &        128.0 &          3.0 &     0.781 &    0.658 &      231471.0 \\\\\n",
      "     0.0 &        128.0 &          5.0 &     0.789 &    0.655 &      341039.0 \\\\\n",
      "     0.0 &        128.0 &          7.0 &     0.786 &    0.669 &      450607.0 \\\\\n",
      "     0.0 &        256.0 &          3.0 &     0.767 &    0.664 &      692015.0 \\\\\n",
      "     0.0 &        256.0 &          5.0 &     0.774 &    0.672 &      976687.0 \\\\\n",
      "     0.0 &        256.0 &          7.0 &     0.793 &    0.657 &     1261359.0 \\\\\n",
      "     0.0 &        512.0 &          3.0 &     0.776 &    0.663 &     2301231.0 \\\\\n",
      "     0.0 &        512.0 &          5.0 &     0.764 &    0.669 &     3132719.0 \\\\\n",
      "     0.0 &        512.0 &          7.0 &     0.772 &    0.678 &     3964207.0 \\\\\n",
      "     0.5 &         64.0 &          3.0 &     0.788 &    0.634 &       87215.0 \\\\\n",
      "     0.5 &         64.0 &          5.0 &     0.783 &    0.653 &      133807.0 \\\\\n",
      "     0.5 &         64.0 &          7.0 &     0.786 &    0.652 &      180399.0 \\\\\n",
      "     0.5 &        128.0 &          3.0 &     0.772 &    0.663 &      231471.0 \\\\\n",
      "     0.5 &        128.0 &          5.0 &     0.790 &    0.666 &      341039.0 \\\\\n",
      "     0.5 &        128.0 &          7.0 &     0.799 &    0.643 &      450607.0 \\\\\n",
      "     0.5 &        256.0 &          3.0 &     0.768 &    0.656 &      692015.0 \\\\\n",
      "     0.5 &        256.0 &          5.0 &     0.768 &    0.667 &      976687.0 \\\\\n",
      "     0.5 &        256.0 &          7.0 &     0.797 &    0.636 &     1261359.0 \\\\\n",
      "     0.5 &        512.0 &          3.0 &     0.760 &    0.681 &     2301231.0 \\\\\n",
      "     0.5 &        512.0 &          5.0 &     0.764 &    0.656 &     3132719.0 \\\\\n",
      "     0.5 &        512.0 &          7.0 &     0.778 &    0.667 &     3964207.0 \\\\\n",
      "\\bottomrule\n",
      "\\end{tabular}\n",
      "\n"
     ]
    }
   ],
   "source": [
    "print(best_losses_cnn.to_latex(index=False))"
   ]
  },
  {
   "cell_type": "markdown",
   "metadata": {},
   "source": [
    "## RNN tuning"
   ]
  },
  {
   "cell_type": "code",
   "execution_count": 83,
   "metadata": {},
   "outputs": [],
   "source": [
    "pars = {'hidden_size': [64, 128, 256, 512],\n",
    "        'dropout': [0.0, 0.5]}\n",
    "param_grid = ParameterGrid(pars)\n",
    "lr = 1e-3"
   ]
  },
  {
   "cell_type": "code",
   "execution_count": 84,
   "metadata": {
    "scrolled": true
   },
   "outputs": [
    {
     "data": {
      "application/vnd.jupyter.widget-view+json": {
       "model_id": "94a7ad82ed13457d880603faa58fad9d",
       "version_major": 2,
       "version_minor": 0
      },
      "text/plain": [
       "HBox(children=(IntProgress(value=0, description='grid_search', max=8, style=ProgressStyle(description_width='i…"
      ]
     },
     "metadata": {},
     "output_type": "display_data"
    },
    {
     "data": {
      "application/vnd.jupyter.widget-view+json": {
       "model_id": "c835a0aa713c4cc5b46d115d0aa1ec86",
       "version_major": 2,
       "version_minor": 0
      },
      "text/plain": [
       "HBox(children=(IntProgress(value=0, description='epoch', max=100000, style=ProgressStyle(description_width='in…"
      ]
     },
     "metadata": {},
     "output_type": "display_data"
    },
    {
     "name": "stdout",
     "output_type": "stream",
     "text": [
      "Early stopping\n",
      "                            parameters  val_loss val_acc  total_params\n",
      "0  {'dropout': 0.0, 'hidden_size': 64}  0.704393   0.702      157743.0\n"
     ]
    },
    {
     "data": {
      "application/vnd.jupyter.widget-view+json": {
       "model_id": "3ab239b3546a439e9bcd49f7ebdc12ed",
       "version_major": 2,
       "version_minor": 0
      },
      "text/plain": [
       "HBox(children=(IntProgress(value=0, description='epoch', max=100000, style=ProgressStyle(description_width='in…"
      ]
     },
     "metadata": {},
     "output_type": "display_data"
    },
    {
     "name": "stdout",
     "output_type": "stream",
     "text": [
      "Early stopping\n",
      "                             parameters  val_loss val_acc  total_params\n",
      "0   {'dropout': 0.0, 'hidden_size': 64}  0.704393   0.702      157743.0\n",
      "1  {'dropout': 0.0, 'hidden_size': 128}  0.692307   0.715      397103.0\n"
     ]
    },
    {
     "data": {
      "application/vnd.jupyter.widget-view+json": {
       "model_id": "db4ba79c048d4df79112457fb82cb287",
       "version_major": 2,
       "version_minor": 0
      },
      "text/plain": [
       "HBox(children=(IntProgress(value=0, description='epoch', max=100000, style=ProgressStyle(description_width='in…"
      ]
     },
     "metadata": {},
     "output_type": "display_data"
    },
    {
     "name": "stdout",
     "output_type": "stream",
     "text": [
      "Early stopping\n",
      "                             parameters  val_loss val_acc  total_params\n",
      "0   {'dropout': 0.0, 'hidden_size': 64}  0.704393   0.702      157743.0\n",
      "1  {'dropout': 0.0, 'hidden_size': 128}  0.692307   0.715      397103.0\n",
      "2  {'dropout': 0.0, 'hidden_size': 256}  0.689424   0.705     1121583.0\n"
     ]
    },
    {
     "data": {
      "application/vnd.jupyter.widget-view+json": {
       "model_id": "8cd7ebf8cd2c41e88214b19e82e81cae",
       "version_major": 2,
       "version_minor": 0
      },
      "text/plain": [
       "HBox(children=(IntProgress(value=0, description='epoch', max=100000, style=ProgressStyle(description_width='in…"
      ]
     },
     "metadata": {},
     "output_type": "display_data"
    },
    {
     "name": "stdout",
     "output_type": "stream",
     "text": [
      "Early stopping\n",
      "                             parameters  val_loss val_acc  total_params\n",
      "0   {'dropout': 0.0, 'hidden_size': 64}  0.704393   0.702      157743.0\n",
      "1  {'dropout': 0.0, 'hidden_size': 128}  0.692307   0.715      397103.0\n",
      "2  {'dropout': 0.0, 'hidden_size': 256}  0.689424   0.705     1121583.0\n",
      "3  {'dropout': 0.0, 'hidden_size': 512}  0.678859   0.719     3553583.0\n"
     ]
    },
    {
     "data": {
      "application/vnd.jupyter.widget-view+json": {
       "model_id": "c9c3da4523284d2a83ada9d7081d9790",
       "version_major": 2,
       "version_minor": 0
      },
      "text/plain": [
       "HBox(children=(IntProgress(value=0, description='epoch', max=100000, style=ProgressStyle(description_width='in…"
      ]
     },
     "metadata": {},
     "output_type": "display_data"
    },
    {
     "name": "stdout",
     "output_type": "stream",
     "text": [
      "Early stopping\n",
      "                             parameters  val_loss val_acc  total_params\n",
      "0   {'dropout': 0.0, 'hidden_size': 64}  0.704393   0.702      157743.0\n",
      "1  {'dropout': 0.0, 'hidden_size': 128}  0.692307   0.715      397103.0\n",
      "2  {'dropout': 0.0, 'hidden_size': 256}  0.689424   0.705     1121583.0\n",
      "3  {'dropout': 0.0, 'hidden_size': 512}  0.678859   0.719     3553583.0\n",
      "4   {'dropout': 0.5, 'hidden_size': 64}   0.71004    0.71      157743.0\n"
     ]
    },
    {
     "data": {
      "application/vnd.jupyter.widget-view+json": {
       "model_id": "2933856e14a145b6acb304921360f6a3",
       "version_major": 2,
       "version_minor": 0
      },
      "text/plain": [
       "HBox(children=(IntProgress(value=0, description='epoch', max=100000, style=ProgressStyle(description_width='in…"
      ]
     },
     "metadata": {},
     "output_type": "display_data"
    },
    {
     "name": "stdout",
     "output_type": "stream",
     "text": [
      "Early stopping\n",
      "                             parameters  val_loss val_acc  total_params\n",
      "0   {'dropout': 0.0, 'hidden_size': 64}  0.704393   0.702      157743.0\n",
      "1  {'dropout': 0.0, 'hidden_size': 128}  0.692307   0.715      397103.0\n",
      "2  {'dropout': 0.0, 'hidden_size': 256}  0.689424   0.705     1121583.0\n",
      "3  {'dropout': 0.0, 'hidden_size': 512}  0.678859   0.719     3553583.0\n",
      "4   {'dropout': 0.5, 'hidden_size': 64}   0.71004    0.71      157743.0\n",
      "5  {'dropout': 0.5, 'hidden_size': 128}  0.694251   0.714      397103.0\n"
     ]
    },
    {
     "data": {
      "application/vnd.jupyter.widget-view+json": {
       "model_id": "700834e7277843b0a06841a3848ed40a",
       "version_major": 2,
       "version_minor": 0
      },
      "text/plain": [
       "HBox(children=(IntProgress(value=0, description='epoch', max=100000, style=ProgressStyle(description_width='in…"
      ]
     },
     "metadata": {},
     "output_type": "display_data"
    },
    {
     "name": "stdout",
     "output_type": "stream",
     "text": [
      "Early stopping\n",
      "                             parameters  val_loss val_acc  total_params\n",
      "0   {'dropout': 0.0, 'hidden_size': 64}  0.704393   0.702      157743.0\n",
      "1  {'dropout': 0.0, 'hidden_size': 128}  0.692307   0.715      397103.0\n",
      "2  {'dropout': 0.0, 'hidden_size': 256}  0.689424   0.705     1121583.0\n",
      "3  {'dropout': 0.0, 'hidden_size': 512}  0.678859   0.719     3553583.0\n",
      "4   {'dropout': 0.5, 'hidden_size': 64}   0.71004    0.71      157743.0\n",
      "5  {'dropout': 0.5, 'hidden_size': 128}  0.694251   0.714      397103.0\n",
      "6  {'dropout': 0.5, 'hidden_size': 256}  0.688791   0.714     1121583.0\n"
     ]
    },
    {
     "data": {
      "application/vnd.jupyter.widget-view+json": {
       "model_id": "d9dd0c446e3e4ec4baf3215f9352350f",
       "version_major": 2,
       "version_minor": 0
      },
      "text/plain": [
       "HBox(children=(IntProgress(value=0, description='epoch', max=100000, style=ProgressStyle(description_width='in…"
      ]
     },
     "metadata": {},
     "output_type": "display_data"
    },
    {
     "name": "stdout",
     "output_type": "stream",
     "text": [
      "Early stopping\n",
      "                             parameters  val_loss val_acc  total_params\n",
      "0   {'dropout': 0.0, 'hidden_size': 64}  0.704393   0.702      157743.0\n",
      "1  {'dropout': 0.0, 'hidden_size': 128}  0.692307   0.715      397103.0\n",
      "2  {'dropout': 0.0, 'hidden_size': 256}  0.689424   0.705     1121583.0\n",
      "3  {'dropout': 0.0, 'hidden_size': 512}  0.678859   0.719     3553583.0\n",
      "4   {'dropout': 0.5, 'hidden_size': 64}   0.71004    0.71      157743.0\n",
      "5  {'dropout': 0.5, 'hidden_size': 128}  0.694251   0.714      397103.0\n",
      "6  {'dropout': 0.5, 'hidden_size': 256}  0.688791   0.714     1121583.0\n",
      "7  {'dropout': 0.5, 'hidden_size': 512}  0.711472   0.698     3553583.0\n"
     ]
    }
   ],
   "source": [
    "best_losses_rnn = pd.DataFrame(columns=['parameters', 'val_loss', 'val_acc'])\n",
    "best_losses_rnn['parameters'] = list(param_grid)\n",
    "for i, params in enumerate(tqdm_notebook(param_grid, desc='grid_search')):\n",
    "    rnn_encoder = models.RNNEncoder(\n",
    "        EMBED_SIZE,\n",
    "        params['hidden_size'],\n",
    "        len(token2id),\n",
    "        PAD_IDX,\n",
    "        init_embeddings).to(DEVICE)\n",
    "    rnn_model = models.InferenceModel(\n",
    "        rnn_encoder,\n",
    "        NUM_CLASSES,\n",
    "        params['hidden_size'] * 2,\n",
    "        dropout=params['dropout']).to(DEVICE)\n",
    "    rnn_optimizer = torch.optim.Adam(rnn_model.parameters(), lr=lr)\n",
    "\n",
    "    best_val_loss = np.inf\n",
    "    counter = 0\n",
    "    for epoch in tqdm_notebook(range(100000), desc='epoch'):\n",
    "        if counter > patience:\n",
    "            print('Early stopping')\n",
    "            break\n",
    "        loss_train = training_utils.train_model(rnn_model, rnn_optimizer,\n",
    "                                                train_loader, criterion)\n",
    "        loss_val, ys_hat, ys = training_utils.eval_model(\n",
    "            rnn_model, val_loader, criterion)\n",
    "        acc = metrics.accuracy_score(ys, ys_hat.argmax(axis=1))\n",
    "        if loss_val < best_val_loss:\n",
    "            best_val_loss = loss_val\n",
    "            best_acc = acc\n",
    "            counter = 0\n",
    "        else:\n",
    "            counter += 1\n",
    "    best_losses_rnn.loc[i, 'val_loss'] = best_val_loss\n",
    "    best_losses_rnn.loc[i, 'val_acc'] = best_acc\n",
    "    best_losses_rnn.loc[i, 'total_params'] = sum(\n",
    "        p.numel() for p in rnn_model.parameters()\n",
    "        if p.requires_grad) - (len(token2id) - 1) * EMBED_SIZE\n",
    "\n",
    "    print(best_losses_rnn.head(i + 1))"
   ]
  },
  {
   "cell_type": "code",
   "execution_count": 85,
   "metadata": {},
   "outputs": [],
   "source": [
    "best_losses_rnn['val_loss'] = pd.to_numeric(best_losses_rnn['val_loss'])\n",
    "best_losses_rnn['val_acc'] = pd.to_numeric(best_losses_rnn['val_acc'])\n",
    "best_losses_rnn = best_losses_rnn.round(3)"
   ]
  },
  {
   "cell_type": "code",
   "execution_count": 86,
   "metadata": {},
   "outputs": [],
   "source": [
    "best_losses_rnn = pd.concat([\n",
    "    best_losses_rnn['parameters'].apply(pd.Series),\n",
    "    best_losses_rnn.drop('parameters', axis=1)\n",
    "], axis=1)"
   ]
  },
  {
   "cell_type": "code",
   "execution_count": 87,
   "metadata": {},
   "outputs": [
    {
     "name": "stdout",
     "output_type": "stream",
     "text": [
      "\\begin{tabular}{rrrrr}\n",
      "\\toprule\n",
      " dropout &  hidden\\_size &  val\\_loss &  val\\_acc &  total\\_params \\\\\n",
      "\\midrule\n",
      "     0.0 &         64.0 &     0.704 &    0.702 &      157743.0 \\\\\n",
      "     0.0 &        128.0 &     0.692 &    0.715 &      397103.0 \\\\\n",
      "     0.0 &        256.0 &     0.689 &    0.705 &     1121583.0 \\\\\n",
      "     0.0 &        512.0 &     0.679 &    0.719 &     3553583.0 \\\\\n",
      "     0.5 &         64.0 &     0.710 &    0.710 &      157743.0 \\\\\n",
      "     0.5 &        128.0 &     0.694 &    0.714 &      397103.0 \\\\\n",
      "     0.5 &        256.0 &     0.689 &    0.714 &     1121583.0 \\\\\n",
      "     0.5 &        512.0 &     0.711 &    0.698 &     3553583.0 \\\\\n",
      "\\bottomrule\n",
      "\\end{tabular}\n",
      "\n"
     ]
    }
   ],
   "source": [
    "print(best_losses_rnn.to_latex(index=False))"
   ]
  },
  {
   "cell_type": "markdown",
   "metadata": {},
   "source": [
    "# Retraining best models"
   ]
  },
  {
   "cell_type": "code",
   "execution_count": 143,
   "metadata": {},
   "outputs": [
    {
     "data": {
      "application/vnd.jupyter.widget-view+json": {
       "model_id": "6d8b5a843c6845a38f387c5259674674",
       "version_major": 2,
       "version_minor": 0
      },
      "text/plain": [
       "HBox(children=(IntProgress(value=0, description='epoch', max=100000, style=ProgressStyle(description_width='in…"
      ]
     },
     "metadata": {},
     "output_type": "display_data"
    },
    {
     "name": "stdout",
     "output_type": "stream",
     "text": [
      "Early stopping\n"
     ]
    }
   ],
   "source": [
    "cnn_train_losses = []\n",
    "cnn_val_losses = []\n",
    "cnn_encoder = models.CNNEncoder(\n",
    "    EMBED_SIZE,\n",
    "    512,\n",
    "    len(token2id),\n",
    "    PAD_IDX,\n",
    "    3,\n",
    "    init_embeddings).to(DEVICE)\n",
    "cnn_model = models.InferenceModel(\n",
    "    cnn_encoder,\n",
    "    NUM_CLASSES,\n",
    "    params['hidden_size'] * 2,\n",
    "    dropout=0.5).to(DEVICE)\n",
    "cnn_optimizer = torch.optim.Adam(cnn_model.parameters(), lr=1e-4)\n",
    "\n",
    "best_val_loss = np.inf\n",
    "counter = 0\n",
    "for epoch in tqdm_notebook(range(100000), desc='epoch'):\n",
    "    if counter > patience:\n",
    "        print('Early stopping')\n",
    "        break\n",
    "    loss_train = training_utils.train_model(cnn_model, cnn_optimizer,\n",
    "                                            train_loader, criterion)\n",
    "    loss_val, ys_hat, ys = training_utils.eval_model(\n",
    "        cnn_model, val_loader, criterion)\n",
    "    cnn_train_losses.append(loss_train)\n",
    "    cnn_val_losses.append(loss_val)\n",
    "    \n",
    "    if loss_val < best_val_loss:\n",
    "            best_val_loss = loss_val\n",
    "            best_acc = acc\n",
    "            counter = 0\n",
    "    else:\n",
    "        counter += 1"
   ]
  },
  {
   "cell_type": "code",
   "execution_count": 144,
   "metadata": {},
   "outputs": [
    {
     "data": {
      "application/vnd.jupyter.widget-view+json": {
       "model_id": "8e16de44bfb644f5b06f2f463fe2807c",
       "version_major": 2,
       "version_minor": 0
      },
      "text/plain": [
       "HBox(children=(IntProgress(value=0, description='epoch', max=100000, style=ProgressStyle(description_width='in…"
      ]
     },
     "metadata": {},
     "output_type": "display_data"
    },
    {
     "name": "stdout",
     "output_type": "stream",
     "text": [
      "Early stopping\n"
     ]
    }
   ],
   "source": [
    "rnn_train_losses = []\n",
    "rnn_val_losses = []\n",
    "rnn_encoder = models.RNNEncoder(\n",
    "    EMBED_SIZE,\n",
    "    512,\n",
    "    len(token2id),\n",
    "    PAD_IDX,\n",
    "    init_embeddings).to(DEVICE)\n",
    "rnn_model = models.InferenceModel(\n",
    "    rnn_encoder,\n",
    "    NUM_CLASSES,\n",
    "    params['hidden_size'] * 2,\n",
    "    dropout=0.0).to(DEVICE)\n",
    "rnn_optimizer = torch.optim.Adam(rnn_model.parameters(), lr=1e-3)\n",
    "\n",
    "best_val_loss = np.inf\n",
    "counter = 0\n",
    "for epoch in tqdm_notebook(range(100000), desc='epoch'):\n",
    "    if counter > patience:\n",
    "        print('Early stopping')\n",
    "        break\n",
    "    loss_train = training_utils.train_model(rnn_model, rnn_optimizer,\n",
    "                                            train_loader, criterion)\n",
    "    loss_val, ys_hat, ys = training_utils.eval_model(\n",
    "        rnn_model, val_loader, criterion)\n",
    "    rnn_train_losses.append(loss_train)\n",
    "    rnn_val_losses.append(loss_val)\n",
    "    \n",
    "    if loss_val < best_val_loss:\n",
    "            best_val_loss = loss_val\n",
    "            best_acc = acc\n",
    "            counter = 0\n",
    "    else:\n",
    "        counter += 1"
   ]
  },
  {
   "cell_type": "code",
   "execution_count": 148,
   "metadata": {},
   "outputs": [
    {
     "data": {
      "image/png": "[encoded data removed]",
      "text/plain": [
       "<Figure size 864x432 with 2 Axes>"
      ]
     },
     "metadata": {},
     "output_type": "display_data"
    }
   ],
   "source": [
    "fig,ax = plt.subplots(1, 2, figsize=(12,6), sharey=True)\n",
    "ax[0].plot(cnn_train_losses, label='Train loss')\n",
    "ax[0].plot(cnn_val_losses, label='Val loss')\n",
    "ax[0].set_xlabel('Epoch')\n",
    "ax[0].set_ylabel('Loss')\n",
    "ax[0].set_title('CNN')\n",
    "ax[0].legend(loc='best')\n",
    "ax[1].plot(rnn_train_losses, label='Train loss')\n",
    "ax[1].plot(rnn_val_losses, label='Val loss')\n",
    "ax[1].set_xlabel('Epoch')\n",
    "ax[1].set_ylabel('Loss')\n",
    "ax[1].set_title('RNN')\n",
    "ax[1].legend(loc='best')\n",
    "plt.savefig('trval.png', bbox_inches='tight')"
   ]
  },
  {
   "cell_type": "code",
   "execution_count": 149,
   "metadata": {},
   "outputs": [],
   "source": [
    "torch.save(cnn_model.state_dict(), 'cnn_weights.p')\n",
    "torch.save(rnn_model.state_dict(), 'rnn_weights.p')"
   ]
  },
  {
   "cell_type": "markdown",
   "metadata": {},
   "source": [
    "# MultiNLI"
   ]
  },
  {
   "cell_type": "code",
   "execution_count": 150,
   "metadata": {},
   "outputs": [],
   "source": [
    "train_m = pd.read_table('data/mnli_train.tsv')\n",
    "val_m = pd.read_table('data/mnli_val.tsv')\n",
    "genres = list(train_m.genre.unique())"
   ]
  },
  {
   "cell_type": "code",
   "execution_count": 151,
   "metadata": {},
   "outputs": [
    {
     "data": {
      "text/html": [
       "<div>\n",
       "<style scoped>\n",
       "    .dataframe tbody tr th:only-of-type {\n",
       "        vertical-align: middle;\n",
       "    }\n",
       "\n",
       "    .dataframe tbody tr th {\n",
       "        vertical-align: top;\n",
       "    }\n",
       "\n",
       "    .dataframe thead th {\n",
       "        text-align: right;\n",
       "    }\n",
       "</style>\n",
       "<table border=\"1\" class=\"dataframe\">\n",
       "  <thead>\n",
       "    <tr style=\"text-align: right;\">\n",
       "      <th></th>\n",
       "      <th>sentence1</th>\n",
       "      <th>sentence2</th>\n",
       "      <th>label</th>\n",
       "      <th>genre</th>\n",
       "    </tr>\n",
       "  </thead>\n",
       "  <tbody>\n",
       "    <tr>\n",
       "      <th>0</th>\n",
       "      <td>and now that was in fifty one that 's forty ye...</td>\n",
       "      <td>It was already a problem forty years ago but n...</td>\n",
       "      <td>neutral</td>\n",
       "      <td>telephone</td>\n",
       "    </tr>\n",
       "    <tr>\n",
       "      <th>1</th>\n",
       "      <td>Jon could smell baked bread on the air and his...</td>\n",
       "      <td>Jon smelt food in the air and was hungry .</td>\n",
       "      <td>neutral</td>\n",
       "      <td>fiction</td>\n",
       "    </tr>\n",
       "    <tr>\n",
       "      <th>2</th>\n",
       "      <td>it will be like Italian basketball with the uh...</td>\n",
       "      <td>This type of Italian basketball is nothing lik...</td>\n",
       "      <td>contradiction</td>\n",
       "      <td>telephone</td>\n",
       "    </tr>\n",
       "    <tr>\n",
       "      <th>3</th>\n",
       "      <td>well i think that 's about uh that 's about co...</td>\n",
       "      <td>Sorry but we are not done just yet .</td>\n",
       "      <td>contradiction</td>\n",
       "      <td>telephone</td>\n",
       "    </tr>\n",
       "    <tr>\n",
       "      <th>4</th>\n",
       "      <td>Good job tenure , that is -- because in yet an...</td>\n",
       "      <td>Dr. Quinn , Medicine Woman , was worked on by ...</td>\n",
       "      <td>entailment</td>\n",
       "      <td>slate</td>\n",
       "    </tr>\n",
       "  </tbody>\n",
       "</table>\n",
       "</div>"
      ],
      "text/plain": [
       "                                           sentence1  \\\n",
       "0  and now that was in fifty one that 's forty ye...   \n",
       "1  Jon could smell baked bread on the air and his...   \n",
       "2  it will be like Italian basketball with the uh...   \n",
       "3  well i think that 's about uh that 's about co...   \n",
       "4  Good job tenure , that is -- because in yet an...   \n",
       "\n",
       "                                           sentence2          label      genre  \n",
       "0  It was already a problem forty years ago but n...        neutral  telephone  \n",
       "1         Jon smelt food in the air and was hungry .        neutral    fiction  \n",
       "2  This type of Italian basketball is nothing lik...  contradiction  telephone  \n",
       "3               Sorry but we are not done just yet .  contradiction  telephone  \n",
       "4  Dr. Quinn , Medicine Woman , was worked on by ...     entailment      slate  "
      ]
     },
     "execution_count": 151,
     "metadata": {},
     "output_type": "execute_result"
    }
   ],
   "source": [
    "train_m.head(5)"
   ]
  },
  {
   "cell_type": "code",
   "execution_count": 160,
   "metadata": {
    "scrolled": true
   },
   "outputs": [
    {
     "data": {
      "application/vnd.jupyter.widget-view+json": {
       "model_id": "5fe1462717244cdc9abe8dade643593a",
       "version_major": 2,
       "version_minor": 0
      },
      "text/plain": [
       "HBox(children=(IntProgress(value=0, description='epoch', max=3, style=ProgressStyle(description_width='initial…"
      ]
     },
     "metadata": {},
     "output_type": "display_data"
    },
    {
     "data": {
      "application/vnd.jupyter.widget-view+json": {
       "model_id": "f712552e949a47a89a8e4984aac379d9",
       "version_major": 2,
       "version_minor": 0
      },
      "text/plain": [
       "HBox(children=(IntProgress(value=0, description='epoch', max=3, style=ProgressStyle(description_width='initial…"
      ]
     },
     "metadata": {},
     "output_type": "display_data"
    },
    {
     "data": {
      "application/vnd.jupyter.widget-view+json": {
       "model_id": "0b0a2a042dc14360b11715e1449ef7f6",
       "version_major": 2,
       "version_minor": 0
      },
      "text/plain": [
       "HBox(children=(IntProgress(value=0, description='epoch', max=3, style=ProgressStyle(description_width='initial…"
      ]
     },
     "metadata": {},
     "output_type": "display_data"
    },
    {
     "data": {
      "application/vnd.jupyter.widget-view+json": {
       "model_id": "ddcfb061e8f34113b368c8fd583bffa7",
       "version_major": 2,
       "version_minor": 0
      },
      "text/plain": [
       "HBox(children=(IntProgress(value=0, description='epoch', max=3, style=ProgressStyle(description_width='initial…"
      ]
     },
     "metadata": {},
     "output_type": "display_data"
    },
    {
     "data": {
      "application/vnd.jupyter.widget-view+json": {
       "model_id": "2c02d8b088bf4d08b538f4a4ffec71df",
       "version_major": 2,
       "version_minor": 0
      },
      "text/plain": [
       "HBox(children=(IntProgress(value=0, description='epoch', max=3, style=ProgressStyle(description_width='initial…"
      ]
     },
     "metadata": {},
     "output_type": "display_data"
    }
   ],
   "source": [
    "mlni_results = pd.DataFrame(\n",
    "    columns=['CNN_acc', 'CNN_tuned_acc', 'RNN_acc', 'RNN_tuned_acc'],\n",
    "    index=genres)\n",
    "tuning_epochs = 3\n",
    "for genre in genres:\n",
    "    train_genre = train_m.loc[train_m.genre == genre].copy()\n",
    "    val_genre = val_m.loc[val_m.genre == genre].copy()\n",
    "\n",
    "    train_tokens1, train_tokens2 = data_utils.tokenize_dataset(train_genre)\n",
    "    train_labels = list(train_genre.label)\n",
    "\n",
    "    val_tokens1, val_tokens2 = data_utils.tokenize_dataset(val_genre)\n",
    "    val_labels = list(val_genre.label)\n",
    "\n",
    "    train_dataset = data_utils.TextDataset(train_tokens1, train_tokens2,\n",
    "                                           train_labels, token2id)\n",
    "    train_loader = torch.utils.data.DataLoader(\n",
    "        dataset=train_dataset,\n",
    "        batch_size=BATCH_SIZE,\n",
    "        collate_fn=data_utils.text_collate_func,\n",
    "        shuffle=True)\n",
    "\n",
    "    val_dataset = data_utils.TextDataset(val_tokens1, val_tokens2, val_labels,\n",
    "                                         token2id)\n",
    "    val_loader = torch.utils.data.DataLoader(\n",
    "        dataset=val_dataset,\n",
    "        batch_size=BATCH_SIZE,\n",
    "        collate_fn=data_utils.text_collate_func,\n",
    "        shuffle=True)\n",
    "\n",
    "    cnn_encoder = models.CNNEncoder(EMBED_SIZE, 512, len(token2id), PAD_IDX, 3,\n",
    "                                    init_embeddings).to(DEVICE)\n",
    "    rnn_encoder = models.RNNEncoder(EMBED_SIZE, 512, len(token2id), PAD_IDX,\n",
    "                                    init_embeddings).to(DEVICE)\n",
    "    cnn_model = models.InferenceModel(\n",
    "        cnn_encoder, NUM_CLASSES, 1024, dropout=0.5).to(DEVICE)\n",
    "    rnn_model = models.InferenceModel(\n",
    "        rnn_encoder, NUM_CLASSES, 1024, dropout=0.0).to(DEVICE)\n",
    "\n",
    "    cnn_model.load_state_dict(torch.load('cnn_weights.p'))\n",
    "    rnn_model.load_state_dict(torch.load('rnn_weights.p'))\n",
    "\n",
    "    for param in cnn_model.encoder.embedding.parameters():\n",
    "        param.requires_grad = False\n",
    "    for param in rnn_model.encoder.embedding.parameters():\n",
    "        param.requires_grad = False\n",
    "\n",
    "    cnn_optimizer = torch.optim.Adam(cnn_model.parameters(), lr=1e-5)\n",
    "    rnn_optimizer = torch.optim.Adam(rnn_model.parameters(), lr=1e-4)\n",
    "\n",
    "    _, ys_hat, ys = training_utils.eval_model(cnn_model, val_loader, criterion)\n",
    "    mlni_results.loc[genre, 'CNN_acc'] = metrics.accuracy_score(\n",
    "        ys, ys_hat.argmax(axis=1))\n",
    "\n",
    "    _, ys_hat, ys = training_utils.eval_model(rnn_model, val_loader, criterion)\n",
    "    mlni_results.loc[genre, 'RNN_acc'] = metrics.accuracy_score(\n",
    "        ys, ys_hat.argmax(axis=1))\n",
    "\n",
    "    for epoch in tqdm_notebook(range(tuning_epochs), desc='epoch'):\n",
    "        training_utils.train_model(\n",
    "            cnn_model, cnn_optimizer, train_loader, criterion, zero_grad=False)\n",
    "        training_utils.train_model(\n",
    "            rnn_model, rnn_optimizer, train_loader, criterion, zero_grad=False)\n",
    "\n",
    "    _, ys_hat, ys = training_utils.eval_model(cnn_model, val_loader, criterion)\n",
    "    mlni_results.loc[genre, 'CNN_tuned_acc'] = metrics.accuracy_score(\n",
    "        ys, ys_hat.argmax(axis=1))\n",
    "\n",
    "    _, ys_hat, ys = training_utils.eval_model(rnn_model, val_loader, criterion)\n",
    "    mlni_results.loc[genre, 'RNN_tuned_acc'] = metrics.accuracy_score(\n",
    "        ys, ys_hat.argmax(axis=1))"
   ]
  },
  {
   "cell_type": "code",
   "execution_count": 169,
   "metadata": {},
   "outputs": [],
   "source": [
    "mlni_results = mlni_results.apply(pd.to_numeric, axis=1).round(3)"
   ]
  },
  {
   "cell_type": "code",
   "execution_count": 170,
   "metadata": {},
   "outputs": [
    {
     "name": "stdout",
     "output_type": "stream",
     "text": [
      "\\begin{tabular}{lrrrr}\n",
      "\\toprule\n",
      "{} &  CNN\\_acc &  CNN\\_tuned\\_acc &  RNN\\_acc &  RNN\\_tuned\\_acc \\\\\n",
      "\\midrule\n",
      "telephone  &    0.422 &          0.450 &    0.456 &          0.482 \\\\\n",
      "fiction    &    0.403 &          0.449 &    0.464 &          0.484 \\\\\n",
      "slate      &    0.421 &          0.412 &    0.442 &          0.445 \\\\\n",
      "government &    0.440 &          0.466 &    0.430 &          0.489 \\\\\n",
      "travel     &    0.423 &          0.448 &    0.439 &          0.474 \\\\\n",
      "\\bottomrule\n",
      "\\end{tabular}\n",
      "\n"
     ]
    }
   ],
   "source": [
    "print(mlni_results.to_latex())"
   ]
  },
  {
   "cell_type": "code",
   "execution_count": null,
   "metadata": {},
   "outputs": [],
   "source": []
  }
 ],
 "metadata": {
  "kernelspec": {
   "display_name": "Python 3",
   "language": "python",
   "name": "python3"
  },
  "language_info": {
   "codemirror_mode": {
    "name": "ipython",
    "version": 3
   },
   "file_extension": ".py",
   "mimetype": "text/x-python",
   "name": "python",
   "nbconvert_exporter": "python",
   "pygments_lexer": "ipython3",
   "version": "3.6.6"
  }
 },
 "nbformat": 4,
 "nbformat_minor": 2
}
